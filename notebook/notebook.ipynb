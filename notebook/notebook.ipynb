{
 "cells": [
  {
   "cell_type": "code",
   "execution_count": 5,
   "metadata": {},
   "outputs": [],
   "source": [
    "import openai\n",
    "import faiss\n",
    "import numpy as np\n",
    "from langchain.document_loaders import PyPDFLoader\n",
    "\n",
    "\n",
    "# Load environment variables (assuming .env is set up with OpenAI API key)\n",
    "from dotenv import load_dotenv\n",
    "import os\n",
    "\n",
    "load_dotenv()\n",
    "openai.api_key = os.getenv(\"OPENAI_API_KEY\")\n",
    "\n",
    "# Function to extract text from PDF\n",
    "def extract_text_from_pdf(pdf_path):\n",
    "    doc = PyPDFLoader(\"../dataset/about_me.pdf\"),\n",
    "    pages = []\n",
    "    for loader in doc:\n",
    "        pages.extend(loader.load())\n",
    "    return pages\n",
    "\n",
    "# Example function to get embeddings\n",
    "def get_embeddings(texts, model=\"text-embedding-ada-002\"):\n",
    "    response = openai.Embedding.create(input=texts, model=model)\n",
    "    embeddings = [e[\"embedding\"] for e in response[\"data\"]]\n",
    "    return np.array(embeddings, dtype=np.float32)\n",
    "\n",
    "# Embed and index the documents\n",
    "def index_documents(docs):\n",
    "    embeddings = get_embeddings(docs)\n",
    "    index = faiss.IndexFlatL2(embeddings.shape[1])  # Build the index\n",
    "    index.add(embeddings)  # Add vectors to the index\n",
    "    return index, embeddings\n",
    "\n",
    "# Example query function\n",
    "def search_index(index, query, k=5):\n",
    "    query_embedding = get_embeddings([query])\n",
    "    distances, indices = index.search(query_embedding, k)\n",
    "    return distances, indices\n",
    "\n",
    "# Extract text from your PDF\n",
    "pdf_path = \"../dataset/about_me.pdf\"\n",
    "document_text = extract_text_from_pdf(pdf_path)\n",
    "\n",
    "# Assume the document is split into 4 pages for simplicity\n",
    "docs = [document_text[i:i+500] for i in range(0, len(document_text), 500)]  # Adjust splitting logic as needed\n",
    "\n",
    "# # Index the documents\n",
    "# index, embeddings = index_documents(docs)\n",
    "\n",
    "# # Query the index\n",
    "# query = \"Example query text\"\n",
    "# distances, indices = search_index(index, query)\n",
    "\n",
    "# # Print the results\n",
    "# print(\"Top matches:\")\n",
    "# for i in range(len(indices[0])):\n",
    "#     print(f\"Document: {docs[indices[0][i]]}, Distance: {distances[0][i]}\")\n"
   ]
  },
  {
   "cell_type": "code",
   "execution_count": 10,
   "metadata": {},
   "outputs": [],
   "source": [
    "docs = []\n",
    "for idx in range(len(document_text)):\n",
    "    docs.append(document_text[idx].page_content)"
   ]
  },
  {
   "cell_type": "code",
   "execution_count": 13,
   "metadata": {},
   "outputs": [],
   "source": [
    "np.save(\"../dataset/docs.npy\", docs)"
   ]
  },
  {
   "cell_type": "code",
   "execution_count": 16,
   "metadata": {},
   "outputs": [
    {
     "data": {
      "text/plain": [
       "array(['Mazi Prima Reza - Data Scientist  \\nMazi Prima Reza is a skilled Data Scientist with over three years of experience in the data \\nfield, currently working at Metrodata in Jakarta, Indonesia. Her professional journey is \\nmarked by a strong background in handling diverse and end -to-end projects, ranging from \\ndata analysis to the implementation of advanced generative AI technologies. Mazi is \\ndedicated to building innovative solutions that automate repetitive tasks and enhance user \\nexperiences through cutting -edge data analytics.  \\nMetrodata , Jakarta,  Indonesia, Apr 2024 - Present  \\nMetrodata is an information IT company in Indonesia. As a Data Scientist at a consultant \\ncompany, Mazi has  been working with several leading companies and industries in Indonesia \\nto build automation products involving Machine  Learning and Generative AI.  \\nNotable Projects  \\n1. HR Chatbot Development  - Led the development of a  internal company policies \\nchatbot  in an Indonesia leading food and beverage company using Microsoft Azure \\nOpen AI to automate HR daily tasks and improve employe es awareness in company \\npolicies . This project involved integrating Gen AI models and RAG (Retrieval \\nAugmented Generation) to answer employee queries about company policies, \\nresulting in a 30% reduction in HR response time.  \\n2. Regulation Analysis Tool  - Devel oped a Generative AI tool for a finance industry \\ncompany to summarize and analyse  new regulations  from OJK, Bank Indonesia, and \\nMinistry of Finance.  Improving analysis speed by 70% and enhancing the efficiency \\nof the GRC team.  \\nTools  \\n• Azure AI Services , including Azure Open AI, Azure ML, Azure AI Search, Azure Document \\nIntelligence, and Azure Speech  \\n• Python for Data Analysis and Data Scientist , e.g. pandas, sk -learn, and tensorflow.  \\n• Python libraries for deployment , e.g. Flask, Streamlit.  \\nVidio , Nov 2020 – Apr 2024  \\nVidio is a leading stream ing service  company  in Indonesia. I mainly focused on the \\nrecommendation system, though I also developed churn prediction , content performance prediction \\nand keyword extraction using Generative AI . \\nNotable Projects  \\n1. Implemented a recommendation model collaborative filtering using the cosine similarity \\nalgorithm. Achieved  a remarkable 0.2 Recall@20 and 10%+ click -through rate (CTR), \\nsurpassing in -house model -based  recommendation systems.  \\n2. Collaborated with Mark eting Team predicting persuadable non -subscribers to subscribe. \\nPredictive  modeling is built using Tensorflow Neural Networks and achieved an 87% AUC \\nscore, resulting in a 20%  conversion rate among targeted users.  ',\n",
       "       \"3. Worked closely with a consultant to build a heavy ranker model utilizing multi input neural \\nnetworks,  resulting in CTR increase in implemented sections.  \\n4. Utilizing semi -supervised learning and GPT -4 model to extract micro genres from movies \\nsynopsis  description for a better hybrid recommendation sy stem. This method speeds the \\ntagging process time by  more than 80%.  \\n5. Engineered ETL pipelines for cleaning unpublished films in existing tables, resulting in a 90% \\nreduction in API  errors. Improved data quality and streamlined processing workflows.  \\n6. Transitioned from Scala Spark to PySpark for ETL pipelines, improving code accessibility. This \\nshift enhances collaboration with data analysts, fostering seamless code development and \\nunderstanding.  \\n7. Automated weekly subscription reports using Tableau, reduc ing report creation time by \\n50%.  \\n8. Conducted in -depth analysis of churned subscribers and user behavior, reducing churn rate \\nby 10%.  \\n9. Applied neural network time series analysis to predict monthly subscription trends, \\nfacilitating effective  planning for manag ement and teams.  \\nTools  \\n• Python for Data Analysis and Data Scientist, e.g. pandas, sk -learn, and tensorflow.  \\n• Deployment Tools, Flask, Google Cloud Platform , Git, Jenkins  \\n• Data Engineering Tools, PySpark, airflow  \\n• Visualization Tools, Redash, Tableau, Metadata  \\n \\nTeaching and Mentoring  \\nIn addition to her professional experience, Mazi has a strong passion for teaching and \\nmentoring.  \\nAI and IoT Mentor  \\nSkilvul for Samsung Innovation Campus Batch 5  \\nMar 2024 - Jul 2024  \\nSamsung Innovation Campus is a bootcamp and competition by Samsung Indonesia \\nfor high school and university students to compete in AI and IoT projects that solve \\ndaily problems. Mazi's commitment to education continued with her role as an IoT and AI \\nmentor  for Samsung Innovation Campus under Skilvul, an education company. In this role, \\nshe mentored 24 students, helping them understand complex materials and providing \\nintensive guidance to foster their innovative product development.  Her approach in teaching \\nis approaching students i n smaller groups or one -on-one settings, students were more \\ncomfortable asking questions, significantly enhancing their learning experience.  \\nThere are two stages of bootcamp  \\n• The first stage  Mentoring 1000+ high school and university  students online about \\nfundamental of AI and IoT concepts.  \",\n",
       "       '• The second stage  Intensively mentoring 6 groups consists of 4 university students \\nthe advanced concept of AI. Helping the groups to finish the final projects related to \\nIoT and AI.  \\nData Science Men tor \\nGeneration Girls  \\nMay 2022 - Mar 2023  \\n \\nShe began her teaching journey as a volunteer Data Science Mentor with Generation Girls, \\nwhere she inspired and guided young learners. Building on this experience, she collaborated \\nwith Generation Girls and the Min istry of Communication and Informatics ( Kementerian  \\nKomunikasi dan Informatika) to mentor elementary school students both offline and online in \\ndata science.  Her approach of giving simple examples, like explaining clustering through a \\nMcDonald’s delivery s ystem, proved effective in making complex topics accessible to young \\nstudents.  \\nShe involved in several Generation Girls Program including:  \\n• March 2023 - Computer Science 101 Mentor on Spring Club Explorer Program  \\n• Dec 2022 -- Teaching Assistant on GenG\\'s Hour of Code program Intermediate Class  \\n• Sep - Nov 2022 -- Becoming a mentor and teaching assistant for several weeks in \\nData Science for Kids program in collaboration with YCAB (Yayasan Cinta Anak \\nBangsa) and Menkom info (Ministry of Information and Communication Technology)  \\n• May - Jun 2022 -- Collaborate with other mentors to construct a data science \\ncurriculum for high school and be a mentor for 25 high school students on their \\nSummer Club 2022 program for five conse cutive days.  \\nEducation  \\nMazi holds a Bachelor of Science degree in Mathematics from Institut Teknologi  Bandung, where she \\ncompleted her undergraduate thesis on \"ASABRI and JIWASRAYA Stock Portfolio Optimization using \\nAdaptive Spiral Optimization Method .\" In her academic experience, Mazi co -wrote a research paper \\ntitled, “ Mathematical Modeling and Sensitivit y Analysis of the Existence of Male Calico Cats \\nPopulation Based on Cross Breeding of All Coat Colour Types .” She also involved in many \\nvolunteers experience programs from Mathematic Students Association (HIMATIKA ITB) and \\nLampung Student Association (UBAL A ITB), like Head of Media for Ubala ITB and Head of Creative for \\nHIMATIKA ITB events.  \\nProfessional Development  \\nOutside working hours, Mazi actively engages in continuous learning and professional \\ndevelopment. She has attended key workshops and courses such  as a Coursera course on \\nMachine Learning, a Microsoft Azure Hackathon where she learned about Open AI, and the \\nLangChain deep learning course from deeplearning.ai, which deepened her understanding of \\nLangChain.  ',\n",
       "       'Career Goals  \\nMazi aims to become a T -shaped D ata Scientist, with deep expertise in NLP, an area she is \\nparticularly passionate about and wishes to explore further.  \\nPersonal Interests  \\nBeyond her technical capabilities, Mazi is a proactive and innovative professional who \\nconsistently seeks to leverage data to drive business success and improve operational \\nefficiencies. Her interests include teaching, yoga, and designing , which provide her with a \\nwell-rounded perspective and a balanced approach to both her professional and personal life.  \\nTo contact and get  more information about Mazi Prima Reza, you can visit her LinkedIn  or \\nGitHub  profiles.  \\n '],\n",
       "      dtype='<U2636')"
      ]
     },
     "execution_count": 16,
     "metadata": {},
     "output_type": "execute_result"
    }
   ],
   "source": [
    "np.load(\"../dataset/docs.npy\")"
   ]
  }
 ],
 "metadata": {
  "kernelspec": {
   "display_name": "openai",
   "language": "python",
   "name": "python3"
  },
  "language_info": {
   "codemirror_mode": {
    "name": "ipython",
    "version": 3
   },
   "file_extension": ".py",
   "mimetype": "text/x-python",
   "name": "python",
   "nbconvert_exporter": "python",
   "pygments_lexer": "ipython3",
   "version": "3.10.14"
  }
 },
 "nbformat": 4,
 "nbformat_minor": 2
}
